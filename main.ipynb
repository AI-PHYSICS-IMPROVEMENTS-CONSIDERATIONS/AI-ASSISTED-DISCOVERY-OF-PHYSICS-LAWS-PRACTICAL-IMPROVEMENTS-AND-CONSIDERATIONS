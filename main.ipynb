{
  "cells": [
    {
      "cell_type": "markdown",
      "metadata": {
        "id": "REOGFjCPW4Rz"
      },
      "source": [
        "# Import modules\n",
        "\n",
        "Imports the required Python libraries and sets the random seed.\n",
        "\n",
        "*Libraries:*\n",
        "- `itertools`\n",
        "- `numpy`\n",
        "- `sklearn`\n",
        "- `matplotlib`"
      ]
    },
    {
      "cell_type": "code",
      "execution_count": null,
      "metadata": {
        "colab": {
          "base_uri": "https://localhost:8080/"
        },
        "id": "oQyuQVnbbpRW",
        "outputId": "180e9f8e-51d4-4de0-a8ff-7182a16e569a"
      },
      "outputs": [
        {
          "output_type": "stream",
          "name": "stdout",
          "text": [
            "cuML: Accelerator installed.\n"
          ]
        }
      ],
      "source": [
        "# Add GPU acceleration\n",
        "%load_ext cuml.accel"
      ]
    },
    {
      "cell_type": "code",
      "execution_count": null,
      "metadata": {
        "id": "vBqyEwuYrMTv"
      },
      "outputs": [],
      "source": [
        "# Import libraries\n",
        "from itertools import combinations_with_replacement, combinations\n",
        "\n",
        "import numpy as np\n",
        "from sklearn.linear_model import LinearRegression\n",
        "from sklearn.feature_selection import r_regression\n",
        "from sklearn.neural_network import MLPRegressor\n",
        "from sklearn.model_selection import train_test_split\n",
        "import matplotlib.pyplot as plt"
      ]
    },
    {
      "cell_type": "code",
      "source": [
        "# Set the random seed to allow for reproducibility\n",
        "np.random.seed(42)"
      ],
      "metadata": {
        "id": "1jClmE0MTM7t"
      },
      "execution_count": null,
      "outputs": []
    },
    {
      "cell_type": "markdown",
      "source": [
        "# Load dataset\n",
        "\n",
        "Initializes the `matrix` and `vars`.\n",
        "\n",
        "*Options:*\n",
        "\n",
        "- Import data from a CSV\n",
        "\n",
        "- Generate data from a function"
      ],
      "metadata": {
        "id": "txIChmoR4Ara"
      }
    },
    {
      "cell_type": "code",
      "source": [
        "# Load dataset from file.\n",
        "# PATH = \"Data/example.csv\"\n",
        "# matrix = np.loadtxt(PATH, delimiter=',', dtype=float)\n",
        "# vars = [f\"x{i}\" for i in range(matrix.shape[1] - 1)]"
      ],
      "metadata": {
        "id": "CxfzTSWnT6i3"
      },
      "execution_count": null,
      "outputs": []
    },
    {
      "cell_type": "code",
      "source": [
        "# Generate dataset from equation.\n",
        "NUM_ROWS = 10000\n",
        "NUM_VARS = 4 # MODIFY THIS\n",
        "\n",
        "vars = [f\"x{i}\" for i in range(NUM_VARS)]\n",
        "\n",
        "matrix = np.empty((NUM_ROWS, NUM_VARS + 1))\n",
        "matrix[:, 0:NUM_VARS] = np.random.rand(NUM_ROWS, NUM_VARS) * 20 - 10\n",
        "\n",
        "x = []\n",
        "for j in range(NUM_VARS):\n",
        "  x.append(matrix[:, j])\n",
        "\n",
        "matrix[:, NUM_VARS] = x[0]**2 + 2 * x[1] * (x[2] - x[3]) # MODIFY THIS\n",
        "\n",
        "print(\"Vars:\\n\", vars, \"\\n\")\n",
        "print(\"Matrix:\\n\", matrix)"
      ],
      "metadata": {
        "id": "mjUOvq8N4vy6",
        "colab": {
          "base_uri": "https://localhost:8080/"
        },
        "outputId": "d30d21c9-35f3-4e5c-e234-9189e880733a"
      },
      "execution_count": null,
      "outputs": [
        {
          "output_type": "stream",
          "name": "stdout",
          "text": [
            "Vars:\n",
            " ['x0', 'x1', 'x2', 'x3'] \n",
            "\n",
            "Matrix:\n",
            " [[-2.50919762e+00  9.01428613e+00  4.63987884e+00  1.97316968e+00\n",
            "   5.43730314e+01]\n",
            " [-6.87962719e+00 -6.88010959e+00 -8.83832776e+00  7.32352292e+00\n",
            "   2.69719878e+02]\n",
            " [ 2.02230023e+00  4.16145156e+00 -9.58831011e+00  9.39819704e+00\n",
            "  -1.53933161e+02]\n",
            " ...\n",
            " [ 9.16080848e+00  9.70494235e+00 -6.77194276e+00  1.21803843e+00\n",
            "  -7.11642016e+01]\n",
            " [ 1.18297657e+00 -9.52386189e-01  8.49400317e+00  5.08067818e+00\n",
            "  -5.10217358e+00]\n",
            " [ 5.29053871e+00 -4.60861136e+00 -1.31360456e+00 -2.51526030e-01\n",
            "   3.77792142e+01]]\n"
          ]
        }
      ]
    },
    {
      "cell_type": "markdown",
      "metadata": {
        "id": "e3nLDIKZW_Bh"
      },
      "source": [
        "# Parameters and limitations\n",
        "\n",
        "Defines the parameters/limitations for the analysis.\n",
        "\n",
        "*Constants:*\n",
        "\n",
        "- `TARGET_R2`: $R^2$ deemed enough for a successful model\n",
        "\n",
        "  - Note: $R^2$ refers to the $r^2$ for the linear relationship between the actual and predicted function outputs\n",
        "\n",
        "- `MAX_DEGREE`: Maximum polynomial power to consider"
      ]
    },
    {
      "cell_type": "code",
      "execution_count": null,
      "metadata": {
        "id": "zBgQyjBb4bDy"
      },
      "outputs": [],
      "source": [
        "TARGET_R2 = 0.99"
      ]
    },
    {
      "cell_type": "code",
      "execution_count": null,
      "metadata": {
        "id": "_8h2BXkH4bJY"
      },
      "outputs": [],
      "source": [
        "MAX_DEGREE = 4"
      ]
    },
    {
      "cell_type": "markdown",
      "metadata": {
        "id": "Fzskl6FYW7hL"
      },
      "source": [
        "# `Solution` class to represent the final equation\n",
        "\n",
        "Defines a `Solution` class to cleanly store and display equation outputs\n",
        "\n",
        "*Fields:*\n",
        "\n",
        "- `score`: overall fit score for the equation ($R^2$)\n",
        "\n",
        "- `terms`: array of tuples `[(coeffient1, var1), (coefficient2, var2), ...]`\n",
        "\n",
        "- `intercept`: y-intercept of the equation (final constant term)\n",
        "\n",
        "- `predicted_ys`: y-values predicted by the model for the dataset\n",
        "\n",
        "- `actual_ys`: actual y-values from the original dataset\n",
        "\n",
        "*Examples:*\n",
        "\n",
        "- See `linear_regression` for an example of how to create a `Solution`\n",
        "\n",
        "- See the \"Run the algorithm\" heading for an example of how using the `Solution` class helps display the equation"
      ]
    },
    {
      "cell_type": "code",
      "execution_count": null,
      "metadata": {
        "id": "bkoRhH5L4H-_"
      },
      "outputs": [],
      "source": [
        "class Solution:\n",
        "  def __init__(self, score, terms, intercept, predicted_ys, actual_ys):\n",
        "    self.score = score\n",
        "    self.terms = terms\n",
        "    self.intercept = np.float64(intercept)\n",
        "    self.predicted_ys = predicted_ys\n",
        "    self.actual_ys = actual_ys\n",
        "\n",
        "  def __repr__(self):\n",
        "    output = f\"R^2 Score: {self.score}\\n\\n\"\n",
        "\n",
        "    for (coefficient, var) in self.terms:\n",
        "      if coefficient**2 > 0.1: output += f\"{coefficient.round(4)}*({var}) + \"\n",
        "    output += str(self.intercept.round(4))\n",
        "\n",
        "    return output\n",
        "\n",
        "  def visualize_actual_vs_predicted(self):\n",
        "    plt.scatter(self.actual_ys, self.predicted_ys)\n",
        "    plt.title(f\"Actual vs Predicted Outputs (R^2 = {round(self.score, 4)})\")\n",
        "    plt.xlabel(\"Actual Outputs\")\n",
        "    plt.ylabel(\"Predicted Outputs\")\n",
        "    plt.show()"
      ]
    },
    {
      "cell_type": "markdown",
      "metadata": {
        "id": "vm-kiJkoXMWj"
      },
      "source": [
        "# Perform linear regression\n",
        "\n",
        "Performs linear regression.\n",
        "\n",
        "*Inputs:*\n",
        "\n",
        "- `matrix`: rows represent observations; first columns are of independent/input variables, and the final column is of dependent/output variable\n",
        "\n",
        "- `vars`: array of the variable names"
      ]
    },
    {
      "cell_type": "code",
      "execution_count": null,
      "metadata": {
        "id": "UjbGNy2KWrTu"
      },
      "outputs": [],
      "source": [
        "def linear_regression(matrix, vars):\n",
        "  matrix = matrix.copy()\n",
        "  vars = vars.copy()\n",
        "\n",
        "  x_vals = matrix[:, :-1] # every column except last are independent input variables\n",
        "  y_vals = matrix[:, -1] # last column is the dependent output variable we want to predict\n",
        "\n",
        "  # Fit the model with remaining variables\n",
        "  regression = LinearRegression()\n",
        "  regression.fit(x_vals, y_vals)\n",
        "\n",
        "  # Store and return the solution\n",
        "  score = regression.score(x_vals, y_vals) # r^2\n",
        "  coefficients = regression.coef_\n",
        "  intercept = regression.intercept_\n",
        "  terms = []\n",
        "\n",
        "  for coefficient, var in zip(coefficients, vars):\n",
        "    terms.append((coefficient, var))\n",
        "\n",
        "  solution = Solution(score, terms, intercept, regression.predict(x_vals), y_vals)\n",
        "\n",
        "  return solution"
      ]
    },
    {
      "cell_type": "markdown",
      "metadata": {
        "id": "e_g2z6KP2IxS"
      },
      "source": [
        "## Test"
      ]
    },
    {
      "cell_type": "code",
      "execution_count": null,
      "metadata": {
        "colab": {
          "base_uri": "https://localhost:8080/"
        },
        "id": "drpPu99_uQdk",
        "outputId": "625688be-db46-4bd7-8f5d-9bb80d6a4ee5"
      },
      "outputs": [
        {
          "output_type": "stream",
          "name": "stdout",
          "text": [
            "R^2 Score: 1.0\n",
            "\n",
            "3.75*(x0) + 2.4*(x1) + 3.6*(x2) + 12.0\n"
          ]
        }
      ],
      "source": [
        "# ----- Testing linear_regression ----- #\n",
        "\n",
        "def test_linear_regression():\n",
        "  # y = 3.75x0 + 2.4x1 + 3.6x2 + 12\n",
        "\n",
        "  # Data\n",
        "  test_vars = [\"x0\", \"x1\", \"x2\"]\n",
        "  test_matrix = np.array ([ [  3,    -2,     2,    25.65],\n",
        "                            [ -3,     0,     1,     4.35],\n",
        "                            [ -4,     1,     1,     3.  ],\n",
        "                            [  2,     1,    -1,    18.3 ],\n",
        "                            [  2,    -1,    -4,     2.7 ],\n",
        "                            [ -4,    -1,    -5,   -23.4 ],\n",
        "                            [  1,     1,    -5,     0.15],\n",
        "                            [ -5,    -4,    -5,   -34.35],\n",
        "                            [ -5,     4,     4,    17.25],\n",
        "                            [  0,     4,     1,    25.2 ],\n",
        "                            [ -4,     5,     5,    27   ],\n",
        "                            [  5,    -4,     2,    28.35],\n",
        "                            [ -4,    -2,    -2,   -15   ],\n",
        "                            [  3,     2,     2,    35.25],\n",
        "                            [  0,     3,    -2,    12   ],\n",
        "                            [ -1,    -1,     4,    20.25],\n",
        "                            [  5,     0,     2,    37.95],\n",
        "                            [ -2,     5,    -4,     2.1 ],\n",
        "                            [  3,     1,    -5,     7.65],\n",
        "                            [  0,     0,     0,    12] ])\n",
        "\n",
        "  test_eq = linear_regression(test_matrix, test_vars)\n",
        "\n",
        "  print(test_eq)\n",
        "\n",
        "  # Making sure it worked\n",
        "  assert repr(test_eq).split(\"\\n\")[2] == '3.75*(x0) + 2.4*(x1) + 3.6*(x2) + 12.0'\n",
        "\n",
        "test_linear_regression()"
      ]
    },
    {
      "cell_type": "markdown",
      "metadata": {
        "id": "jHp_ra_TXEnj"
      },
      "source": [
        "# Generate polynomial features without cross terms\n",
        "\n",
        "Generates polynomial features without cross terms (e.g., NO $x_1^n \\times x_2^m$).\n",
        "\n",
        "*Inputs:*\n",
        "\n",
        "- `matrix`: rows represent observations; first columns are of independent/input variables, and the final column is of dependent/output variable\n",
        "\n",
        "- `vars`: array of the variable names\n",
        "\n",
        "- `degree`: maximum degree"
      ]
    },
    {
      "cell_type": "code",
      "execution_count": null,
      "metadata": {
        "id": "767Z-6jeWU3p"
      },
      "outputs": [],
      "source": [
        "def generate_polynomial_features_no_cross(matrix, vars, degree=MAX_DEGREE):\n",
        "  # Create output storage\n",
        "  new_mat = np.empty(shape=[matrix.shape[0], 0])\n",
        "  new_vars = []\n",
        "\n",
        "  # Generate polynomials\n",
        "  for var in range(len(vars)): # Fill in every column but the last one (reserved for the dependent variable)\n",
        "    curr_var_column = matrix[:,var]\n",
        "    for power in range(1, degree + 1):\n",
        "      new_feature = curr_var_column ** power\n",
        "      new_vars.append(\"*\".join([f\"({vars[var]})\" for i in range(power)]))\n",
        "      new_mat = np.hstack((new_mat, new_feature.reshape(-1, 1)))\n",
        "\n",
        "  # Add back the dependent variable column and return as a tuple (to enable unpacking in lin_reg with the \"*\" operator)\n",
        "  new_mat = np.hstack((new_mat, matrix[:, [-1]]))\n",
        "\n",
        "  return (new_mat, new_vars)"
      ]
    },
    {
      "cell_type": "markdown",
      "metadata": {
        "id": "6V5FJA6S3uwL"
      },
      "source": [
        "## Test"
      ]
    },
    {
      "cell_type": "code",
      "execution_count": null,
      "metadata": {
        "colab": {
          "base_uri": "https://localhost:8080/"
        },
        "id": "wEnrBPv2t-Qt",
        "outputId": "447f108e-4cee-4083-d947-a198cc4c5c8b"
      },
      "outputs": [
        {
          "output_type": "stream",
          "name": "stdout",
          "text": [
            "Original Data:\n",
            "['x1', 'x2', 'x3']\n",
            "[[ 0  1  2  1]\n",
            " [-1  2 -3  2]]\n",
            "\n",
            "Transformed Data:\n",
            "['(x1)', '(x1)*(x1)', '(x1)*(x1)*(x1)', '(x2)', '(x2)*(x2)', '(x2)*(x2)*(x2)', '(x3)', '(x3)*(x3)', '(x3)*(x3)*(x3)']\n",
            "[[  0.   0.   0.   1.   1.   1.   2.   4.   8.   1.]\n",
            " [ -1.   1.  -1.   2.   4.   8.  -3.   9. -27.   2.]]\n"
          ]
        }
      ],
      "source": [
        "# ----- Testing generate_polynomial_features_no_cross ----- #\n",
        "def test_generate_polynomial_features_no_cross():\n",
        "\n",
        "    # Variable names\n",
        "    test_vars = [\"x1\", \"x2\", \"x3\"]\n",
        "\n",
        "    # Original data\n",
        "    test_matrix = np.array([[0,1,2,1],[-1,2,-3,2]])\n",
        "\n",
        "    # Expected output\n",
        "    answer= np.array([[0,0,0,1,1,1,2,4,8,1],[-1,1,-1,2,4,8,-3,9,-27,2]])\n",
        "\n",
        "    # Calling method\n",
        "    out_matrix, out_vars = generate_polynomial_features_no_cross(test_matrix,test_vars,degree=3)\n",
        "\n",
        "    print(f\"Original Data:\\n{test_vars}\\n{test_matrix}\")\n",
        "    print(f\"\\nTransformed Data:\\n{out_vars}\\n{out_matrix}\")\n",
        "    assert (out_matrix==answer).all()\n",
        "\n",
        "test_generate_polynomial_features_no_cross()"
      ]
    },
    {
      "cell_type": "markdown",
      "metadata": {
        "id": "kUFGXcRbaEuj"
      },
      "source": [
        "# Detect symmetries\n",
        "\n",
        "Trains the MLP model and finds symmetries.\n",
        "\n",
        "*Key Terms:*\n",
        "\n",
        "- `a_alpha`: translational delta (nudge value) for symmetry detection for addition/subtraction\n",
        "\n",
        "- `m_alpha`: translational delta (nudge value) for symmetry detection for multiplication/division"
      ]
    },
    {
      "cell_type": "markdown",
      "source": [
        "## Train MLP model\n",
        "\n",
        "*Inputs:*\n",
        "\n",
        "- `matrix`: rows represent observations; first columns are of independent/input variables, and the final column is of dependent/output variable"
      ],
      "metadata": {
        "id": "gOFTf50cbqGi"
      }
    },
    {
      "cell_type": "code",
      "execution_count": null,
      "metadata": {
        "id": "1Yb8l6JOaH4X"
      },
      "outputs": [],
      "source": [
        "# Train MLP model\n",
        "# matrix: rows represent observations; first columns are of independent/input variables, and the final column is of dependent/output variable\n",
        "def train_mlp_model(matrix):\n",
        "  print(\"  -> TRAINING MODEL...\")\n",
        "  new_mat = matrix.copy()\n",
        "\n",
        "  X_vals = new_mat[:, :-1] # every column except last are independent input variables\n",
        "  y_vals = new_mat[:, -1] # last column is the dependent output variable we want to predict\n",
        "\n",
        "  # x_train, y_train, x_test, y_test = x_vals[:int(len(x_vals)*0.8)], y_vals[:int(len(y_vals)*0.8)], x_vals[int(len(x_vals)*0.8):], y_vals[int(len(y_vals)*0.8):\n",
        "  X_train, X_test, y_train, y_test = train_test_split(X_vals, y_vals, test_size=0.2, shuffle=True)\n",
        "\n",
        "  mlp = MLPRegressor((500, 200, 100, 50, 20, 10), max_iter=100_000, early_stopping=True)\n",
        "  mlp.fit(X_train, y_train)\n",
        "\n",
        "  return mlp, mlp.score(X_test, y_test), X_test, y_test"
      ]
    },
    {
      "cell_type": "markdown",
      "source": [
        "## Check for symmetries between columns\n",
        "\n",
        "*Inputs:*\n",
        "\n",
        "- `i`: index of first column to consider\n",
        "\n",
        "- `j`: index of second column to consider\n",
        "\n",
        "- `col1`: first column to consider\n",
        "\n",
        "- `col2`: second column to consider\n",
        "\n",
        "- `mlp`: trained multi-layer perceptron regressor\n",
        "\n",
        "- `a_alpha`: nudge value for symmetry detection for addition/subtraction\n",
        "\n",
        "- `m_alpha`: nudge value for symmetry detection for multiplication/division\n",
        "\n",
        "- `X_test`: matrix of the test independent variable values\n",
        "\n",
        "- `y_test`: list of the test dependent variable values\n",
        "\n",
        "- `old_score`: original R^2 value without translation"
      ],
      "metadata": {
        "id": "MorMK1GGbsqJ"
      }
    },
    {
      "cell_type": "code",
      "source": [
        "# Check for subtractive symmetry\n",
        "# i: index of first column to consider\n",
        "# j: index of second column to consider\n",
        "# col1: first column to consider\n",
        "# col2: second column to consider\n",
        "# mlp: trained multi-layer perceptron regressor\n",
        "# a_alpha: nudge value for symmetry detection for addition/subtraction\n",
        "# X_test: matrix of the test independent variable values\n",
        "# y_test: list of the test dependent variable values\n",
        "# old_score: original R^2 value without translation\n",
        "def check_translational_symmetry(i, j, col1, col2, mlp, a_alpha, X_test, y_test, old_score):\n",
        "  col1_trans = col1 + a_alpha\n",
        "  col2_trans = col2 + a_alpha\n",
        "\n",
        "  new = X_test.copy()\n",
        "  new[:, i] = col1_trans\n",
        "  new[:, j] = col2_trans\n",
        "\n",
        "  new_score = mlp.score(new, y_test)\n",
        "\n",
        "  diff = old_score - new_score\n",
        "\n",
        "  return diff\n",
        "\n",
        "# Check for additive symmetry\n",
        "# i: index of first column to consider\n",
        "# j: index of second column to consider\n",
        "# col1: first column to consider\n",
        "# col2: second column to consider\n",
        "# mlp: trained multi-layer perceptron regressor\n",
        "# a_alpha: nudge value for symmetry detection for addition/subtraction\n",
        "# X_test: matrix of the test independent variable values\n",
        "# y_test: list of the test dependent variable values\n",
        "# old_score: original R^2 value without translation\n",
        "def check_sum_symmetry(i, j, col1, col2, mlp, a_alpha, X_test, y_test, old_score):\n",
        "  col1_trans = col1 + a_alpha\n",
        "  col2_trans = col2 - a_alpha\n",
        "\n",
        "  new = X_test.copy()\n",
        "  new[:, i] = col1_trans\n",
        "  new[:, j] = col2_trans\n",
        "\n",
        "  new_score = mlp.score(new, y_test)\n",
        "\n",
        "  diff = old_score - new_score\n",
        "\n",
        "  return diff\n",
        "\n",
        "# Check for multiplicative symmetry\n",
        "# i: index of first column to consider\n",
        "# j: index of second column to consider\n",
        "# col1: first column to consider\n",
        "# col2: second column to consider\n",
        "# mlp: trained multi-layer perceptron regressor\n",
        "# m_alpha: nudge value for symmetry detection for multiplication\n",
        "# X_test: matrix of the test independent variable values\n",
        "# y_test: list of the test dependent variable values\n",
        "# old_score: original R^2 value without translation\n",
        "def check_scale_symmetry(i, j, col1, col2, mlp, m_alpha, X_test, y_test, old_score):\n",
        "    col1_trans = col1 * m_alpha\n",
        "    col2_trans = col2 / m_alpha\n",
        "\n",
        "    new = X_test.copy()\n",
        "    new[:, i] = col1_trans\n",
        "    new[:, j] = col2_trans\n",
        "\n",
        "    new_score = mlp.score(new, y_test)\n",
        "\n",
        "    diff = old_score - new_score\n",
        "\n",
        "    return diff"
      ],
      "metadata": {
        "id": "W4pPXLD4YFkb"
      },
      "execution_count": null,
      "outputs": []
    },
    {
      "cell_type": "markdown",
      "source": [
        "## Find all symetries in the data\n",
        "*Inputs:*\n",
        "\n",
        "- `matrix`: rows represent observations; first columns are of independent/input variables, and the final column is of dependent/output variable\n",
        "\n",
        "- `vars`: array of the variable names"
      ],
      "metadata": {
        "id": "R-ZLzTG-bvfa"
      }
    },
    {
      "cell_type": "code",
      "execution_count": null,
      "metadata": {
        "id": "PpJHeBlTpomm"
      },
      "outputs": [],
      "source": [
        "# Update matrix with symmetries\n",
        "# matrix: rows represent observations; first columns are of independent/input variables, and the final column is of dependent/output variable\n",
        "# vars: array of the variable names\n",
        "# a_alpha: nudge value for symmetry detection for addition/subtraction\n",
        "# m_alpha: nudge value for symmetry detection for multiplication/division\n",
        "def find_symmetries(matrix, vars):\n",
        "  if len(vars) <= 1: return (matrix, vars, 0)\n",
        "\n",
        "  symmetries = []\n",
        "  used_vars = set()\n",
        "\n",
        "  mlp, old_score, X_test, y_test = train_mlp_model(matrix)\n",
        "\n",
        "  if old_score < 0.9:\n",
        "    print(\"  -> MODEL TOO POOR TO CHECK SYMMETRIES...\")\n",
        "    return (matrix, vars, 0)\n",
        "\n",
        "\n",
        "  print(\"  -> CHECKING SYMMETRIES...\")\n",
        "\n",
        "  for i,j in combinations(range(matrix.shape[1]-1),2):\n",
        "    if i in used_vars or j in used_vars: continue\n",
        "\n",
        "    col1 = X_test[:, i]\n",
        "    col2 = X_test[:, j]\n",
        "\n",
        "    # Parameters\n",
        "    err = min(0.02 + 0.01 * np.log10(max(min(np.std(col1), np.std(col2)), 1)), .06)\n",
        "    a_alpha = max(min(np.std(col1), np.std(col2)), 0.1)\n",
        "    m_alpha = max(min(np.exp(np.std(np.log(np.maximum(np.abs(col1), 0.000001))) / 2), np.exp(np.std(np.log(np.maximum(np.abs(col2), 0.000001))) / 2)), 1.1)\n",
        "\n",
        "    # Check translational (subtractive) symmetry\n",
        "    subtractive_err = check_translational_symmetry(int(i), int(j), col1, col2, mlp, a_alpha, X_test, y_test, old_score)\n",
        "\n",
        "    if subtractive_err < err:\n",
        "      symmetries.append((i, j, \"-\"))\n",
        "      used_vars.update({i,j})\n",
        "\n",
        "      print(f\"     [X] Symmetry Found: (({vars[i]})-({vars[j]})) -> (err = {subtractive_err})\")\n",
        "\n",
        "      continue\n",
        "\n",
        "    # Check sum (additive) symmetry\n",
        "    additive_err = check_sum_symmetry(int(i), int(j), col1, col2, mlp, a_alpha, X_test, y_test, old_score)\n",
        "\n",
        "    if additive_err < err:\n",
        "      symmetries.append((i, j, \"+\"))\n",
        "      used_vars.update({i,j})\n",
        "\n",
        "      print(f\"     [X] Symmetry Found: (({vars[i]})+({vars[j]})) -> (err = {additive_err})\")\n",
        "\n",
        "      continue\n",
        "\n",
        "    # Check scale (multiplicative) symmetry\n",
        "    multiplicative_err = check_scale_symmetry(int(i), int(j), col1, col2, mlp, m_alpha, X_test, y_test, old_score)\n",
        "\n",
        "    if multiplicative_err < err:\n",
        "      symmetries.append((i, j, \"*\"))\n",
        "      used_vars.update({i,j})\n",
        "\n",
        "      print(f\"     [X] Symmetry Found: (({vars[i]})*({vars[j]})) -> (err = {multiplicative_err})\")\n",
        "\n",
        "      continue\n",
        "\n",
        "  # Generate new matrix based on the symmetries found\n",
        "  new_mat = np.empty((matrix.shape[0], matrix.shape[1] - len(symmetries)))\n",
        "  new_vars = []\n",
        "\n",
        "  n = 0\n",
        "\n",
        "  for i in range(matrix.shape[1] - 1):\n",
        "    if i not in used_vars:\n",
        "      new_mat[:,n] = matrix[:, i]\n",
        "      new_vars.append(vars[i])\n",
        "      n += 1\n",
        "\n",
        "  for (i, j, op) in symmetries:\n",
        "    new_var = f\"({vars[i]}){op}({vars[j]})\"\n",
        "\n",
        "    if op == \"+\":\n",
        "      new_col = matrix[:, i] + matrix[:, j]\n",
        "    elif op == \"-\":\n",
        "      new_col = matrix[:, i] - matrix[:, j]\n",
        "    elif op == \"*\":\n",
        "      new_col = matrix[:, i] * matrix[:, j]\n",
        "\n",
        "    new_mat[:,n] = new_col\n",
        "    new_vars.append(new_var)\n",
        "    n += 1\n",
        "\n",
        "  new_mat[:,-1] = matrix[:, -1]\n",
        "\n",
        "  return (new_mat, new_vars, len(symmetries))"
      ]
    },
    {
      "cell_type": "markdown",
      "source": [
        "# Bonus features\n",
        "- Cross-term polynomials (e.g., $x_1^n \\times x_2^m$)\n",
        "- Functional features (e.g., sine, cosine, inverse, square root, etc.)"
      ],
      "metadata": {
        "id": "wE1xbBCsMjDh"
      }
    },
    {
      "cell_type": "markdown",
      "metadata": {
        "id": "eg95UxByXJr0"
      },
      "source": [
        "## Generate polynomial features with cross terms\n",
        "Generates polynomial features with cross terms (e.g., YES $x_1^n \\times x_2^m$)\n",
        "\n",
        "*Inputs:*\n",
        "\n",
        "- `matrix`: rows represent observations; first columns are of independent/input variables, and the final column is of dependent/output variable\n",
        "\n",
        "- `vars`: array of the variable names\n",
        "\n",
        "- `degree`: maximum degree (e.g., in the previous example, n + m <= degree)"
      ]
    },
    {
      "cell_type": "code",
      "execution_count": null,
      "metadata": {
        "id": "xxtwluKKWWB8"
      },
      "outputs": [],
      "source": [
        "def generate_polynomial_features_cross(matrix, vars, degree=MAX_DEGREE):\n",
        "  # Create output storage\n",
        "  new_mat = np.empty(shape=[matrix.shape[0], 0])\n",
        "  new_vars = []\n",
        "\n",
        "  for power in range(1, degree + 1):\n",
        "    for indices in combinations_with_replacement(range(len(vars)), power):\n",
        "      new_feature = np.prod(matrix[:, indices], axis=1)\n",
        "      new_vars.append(\"*\".join(f\"({vars[i]})\" for i in indices))\n",
        "      new_mat = np.hstack((new_mat, new_feature.reshape(-1, 1)))\n",
        "\n",
        "  new_mat = np.hstack((new_mat, matrix[:, [-1]]))\n",
        "\n",
        "  return (new_mat, new_vars)"
      ]
    },
    {
      "cell_type": "markdown",
      "metadata": {
        "id": "a1aMxwNe3x9r"
      },
      "source": [
        "### Test"
      ]
    },
    {
      "cell_type": "code",
      "execution_count": null,
      "metadata": {
        "id": "xSgIexE1uD4D",
        "outputId": "8dde6431-182b-4841-b7e1-ecf4c458f6cf",
        "colab": {
          "base_uri": "https://localhost:8080/"
        }
      },
      "outputs": [
        {
          "output_type": "stream",
          "name": "stdout",
          "text": [
            "Original Data:\n",
            "['x1', 'x2']\n",
            "[[ 3  4  5]\n",
            " [-1 -2 -3]\n",
            " [ 0  1  2]]\n",
            "\n",
            "Transformed Data:\n",
            "['(x1)', '(x2)', '(x1)*(x1)', '(x1)*(x2)', '(x2)*(x2)', '(x1)*(x1)*(x1)', '(x1)*(x1)*(x2)', '(x1)*(x2)*(x2)', '(x2)*(x2)*(x2)']\n",
            "[[ 3.  4.  9. 12. 16. 27. 36. 48. 64.  5.]\n",
            " [-1. -2.  1.  2.  4. -1. -2. -4. -8. -3.]\n",
            " [ 0.  1.  0.  0.  1.  0.  0.  0.  1.  2.]]\n"
          ]
        }
      ],
      "source": [
        "# ----- Testing generate_polynomial_features_cross ----- #\n",
        "\n",
        "def test_generate_polynomial_features_cross():\n",
        "\n",
        "  # Data - (3 x 3 matrix - 2 independent variables, 1 output per row)\n",
        "  test_vars = [\"x1\", \"x2\"]\n",
        "  test_matrix = np.array([[3, 4, 5], [-1, -2, -3], [0, 1, 2]])\n",
        "\n",
        "  # Expected output\n",
        "  answers = np.array([[ 3,  4,  9, 12, 16, 27, 36, 48, 64,  5],\n",
        "                      [-1, -2,  1,  2,  4, -1, -2, -4, -8, -3],\n",
        "                      [ 0,  1,  0,  0,  1,  0,  0,  0,  1,  2]])\n",
        "\n",
        "  out_matrix, out_vars= generate_polynomial_features_cross(test_matrix, test_vars, 3)\n",
        "\n",
        "  print(f\"Original Data:\\n{test_vars}\\n{test_matrix}\")\n",
        "  print(f\"\\nTransformed Data:\\n{out_vars}\\n{out_matrix}\")\n",
        "\n",
        "  assert (answers == out_matrix).all()\n",
        "\n",
        "test_generate_polynomial_features_cross()"
      ]
    },
    {
      "cell_type": "markdown",
      "metadata": {
        "id": "srmmx_c8Xh7p"
      },
      "source": [
        "## Add functional features\n",
        "Applies every function to every independent variable.\n",
        "\n",
        "*Constants:*\n",
        "- `FUNCTION_POOL`: Function manipulations to test\n",
        "\n",
        "*Inputs:*\n",
        "\n",
        "- `matrix`: rows represent observations; first columns are of independent/input variables, and the final column is of dependent/output variable\n",
        "\n",
        "- `vars`: array of the variable names"
      ]
    },
    {
      "cell_type": "code",
      "source": [
        "FUNCTION_POOL = {\n",
        "  'sin': np.sin,\n",
        "  'cos': np.cos,\n",
        "  # 'log': lambda x: np.log(np.clip(x, 1e-12, None)),\n",
        "  # 'exp': np.exp,\n",
        "  # 'sqrt': np.vectorize(lambda x: math.sqrt(x) if x >= 0 else 0),\n",
        "  # 'cbrt': np.cbrt,\n",
        "  '1/': np.vectorize(lambda x: 1 / x if x != 0 else 10**9)\n",
        "}"
      ],
      "metadata": {
        "id": "aFo3NKA9V83V"
      },
      "execution_count": null,
      "outputs": []
    },
    {
      "cell_type": "code",
      "execution_count": null,
      "metadata": {
        "id": "L3xtO7anXjT7"
      },
      "outputs": [],
      "source": [
        "def add_functional_features(matrix, vars, function_pool=FUNCTION_POOL):\n",
        "  new_mat = matrix[:,:-1].copy()\n",
        "  new_vars = vars.copy()\n",
        "\n",
        "  for name, func in function_pool.items():\n",
        "    for i in range(matrix.shape[1] - 1):\n",
        "      new_feature = func(matrix[:, i])\n",
        "      new_vars.append(f\"{name}({vars[i]})\")\n",
        "      new_mat = np.hstack((new_mat, new_feature.reshape(-1, 1)))\n",
        "\n",
        "  new_mat = np.hstack((new_mat, matrix[:, [-1]]))\n",
        "\n",
        "  return (new_mat, new_vars)"
      ]
    },
    {
      "cell_type": "markdown",
      "metadata": {
        "id": "ChbS_VlL30Fy"
      },
      "source": [
        "### Test"
      ]
    },
    {
      "cell_type": "code",
      "execution_count": null,
      "metadata": {
        "id": "uLWeqrgzuKx9",
        "outputId": "0407e0b0-73f5-4313-f1ce-1b680cfee2fa",
        "colab": {
          "base_uri": "https://localhost:8080/"
        }
      },
      "outputs": [
        {
          "output_type": "stream",
          "name": "stdout",
          "text": [
            "[[ 1.          2.          0.84147098  0.90929743  3.        ]\n",
            " [ 4.          5.         -0.7568025  -0.95892427  6.        ]\n",
            " [ 7.          8.          0.6569866   0.98935825  9.        ]\n",
            " [10.         11.         -0.54402111 -0.99999021 12.        ]]\n",
            "Original Data:\n",
            "\n",
            "['x1', 'x2']\n",
            "[[ 1  2  3]\n",
            " [ 4  5  6]\n",
            " [ 7  8  9]\n",
            " [10 11 12]]\n",
            "Transformed Data:\n",
            "\n",
            "['x1', 'x2', 'sin(x1)', 'sin(x2)']\n",
            "[[ 1.          2.          0.84147098  0.90929743  3.        ]\n",
            " [ 4.          5.         -0.7568025  -0.95892427  6.        ]\n",
            " [ 7.          8.          0.6569866   0.98935825  9.        ]\n",
            " [10.         11.         -0.54402111 -0.99999021 12.        ]]\n"
          ]
        }
      ],
      "source": [
        "# ----- Testing add_functional_features ----- #\n",
        "\n",
        "def test_add_functional_features():\n",
        "\n",
        "  # Data (3 x 3 matrix, 2 independent, 1 output)\n",
        "  test_matrix = np.array([[1, 2, 3], [4, 5, 6], [7, 8, 9], [10, 11, 12]])\n",
        "  test_vars = [\"x1\", \"x2\"]\n",
        "\n",
        "  # Expected answer\n",
        "  answers = np.array([[1, 2, np.sin(1), np.sin(2), 3], [4, 5, np.sin(4), np.sin(5), 6], [7, 8, np.sin(7), np.sin(8), 9], [10, 11, np.sin(10), np.sin(11), 12]])\n",
        "\n",
        "  out_matrix, out_vars = add_functional_features(test_matrix, test_vars, {'sin': np.sin})\n",
        "  print(out_matrix)\n",
        "\n",
        "  print(f\"Original Data:\\n\\n{test_vars}\\n{test_matrix}\")\n",
        "  print(f\"Transformed Data:\\n\\n{out_vars}\\n{out_matrix}\")\n",
        "\n",
        "  assert (out_matrix == answers).all()\n",
        "\n",
        "test_add_functional_features()"
      ]
    },
    {
      "cell_type": "markdown",
      "metadata": {
        "id": "IDw-qnsYXOFK"
      },
      "source": [
        "# Automated solver\n",
        "\n",
        "Try different approaches, bringing in \"bigger guns\" each time, until the equation is solved or we run out of \"artillery.\"\n",
        "\n",
        "*Inputs:*\n",
        "\n",
        "- `matrix`: rows represent observations; first columns are of independent/input variables, and the final column is of dependent/output variable\n",
        "\n",
        "- `vars`: array of the variable names\n",
        "\n",
        "*Steps:*\n",
        "\n",
        "1. Linear regression\n",
        "\n",
        "1. Symmetry analysis\n",
        "\n",
        "1. Polynomial regression, without cross terms\n",
        "\n",
        "1. Symmetry analysis\n",
        "\n",
        "1. Functional features\n",
        "\n",
        "1. Symmetry analysis\n",
        "\n",
        "1. Polynomial regression, with cross terms *(resets matrix back to the end of step 2 first)*\n",
        "\n",
        "1. Symmetry analysis\n",
        "\n",
        "1. Functional features\n",
        "\n",
        "1. Symmetry analysis"
      ]
    },
    {
      "cell_type": "code",
      "execution_count": null,
      "metadata": {
        "id": "vmdB9SwqW1Yj"
      },
      "outputs": [],
      "source": [
        "def solve(matrix, vars):\n",
        "  new_mat = matrix.copy()\n",
        "  new_vars = vars.copy()\n",
        "\n",
        "  # Basic linear regression\n",
        "  print(f\"**** VARS: {new_vars}\")\n",
        "\n",
        "  print('LINEAR REGRESSION...')\n",
        "  solution = linear_regression(new_mat, new_vars)\n",
        "\n",
        "  if solution and solution.score >= TARGET_R2:\n",
        "    return solution\n",
        "\n",
        "  # Find symmetry\n",
        "  print('\\nSYMMETRY SEARCHING...')\n",
        "\n",
        "  symmetries = -1\n",
        "\n",
        "  while symmetries != 0:\n",
        "    new_mat, new_vars, symmetries = find_symmetries(new_mat, new_vars)\n",
        "\n",
        "  print(f\"**** NEW VARS: {new_vars}\")\n",
        "\n",
        "  solution = linear_regression(new_mat, new_vars)\n",
        "  if solution and solution.score >= TARGET_R2:\n",
        "    return solution\n",
        "\n",
        "  # Polynomial features, no cross terms\n",
        "  print('\\nPOLYNOMIAL WITHOUT CROSS TERMS...')\n",
        "\n",
        "  new_mat_no_cross, new_vars_no_cross = generate_polynomial_features_no_cross(new_mat, new_vars)\n",
        "\n",
        "  print(f\"**** NEW VARS: {new_vars_no_cross}\")\n",
        "\n",
        "  solution = linear_regression(new_mat_no_cross, new_vars_no_cross)\n",
        "\n",
        "  if solution and solution.score >= TARGET_R2:\n",
        "    return solution\n",
        "\n",
        "  # Find symmetry\n",
        "  print('\\nSYMMETRY SEARCHING...')\n",
        "\n",
        "  symmetries = -1\n",
        "\n",
        "  while symmetries != 0:\n",
        "    new_mat_no_cross, new_vars_no_cross, symmetries = find_symmetries(new_mat_no_cross, new_vars_no_cross)\n",
        "\n",
        "  print(f\"**** NEW VARS: {new_vars_no_cross}\")\n",
        "\n",
        "  solution = linear_regression(new_mat_no_cross, new_vars_no_cross)\n",
        "  if solution and solution.score >= TARGET_R2:\n",
        "    return solution\n",
        "\n",
        "  # Add functional features\n",
        "  print('\\nFUNCTIONAL FEATURES...')\n",
        "\n",
        "  new_mat_no_cross, new_vars_no_cross = add_functional_features(new_mat_no_cross, new_vars_no_cross)\n",
        "\n",
        "  print(f\"**** NEW VARS: {new_vars_no_cross}\")\n",
        "\n",
        "  solution = linear_regression(new_mat_no_cross, new_vars_no_cross)\n",
        "\n",
        "  if solution and solution.score >= TARGET_R2:\n",
        "    return solution\n",
        "\n",
        "  # Find symmetry\n",
        "  print('\\nSYMMETRY SEARCHING...')\n",
        "\n",
        "  symmetries = -1\n",
        "\n",
        "  while symmetries != 0:\n",
        "    new_mat_no_cross, new_vars_no_cross, symmetries = find_symmetries(new_mat_no_cross, new_vars_no_cross)\n",
        "\n",
        "  print(f\"**** NEW VARS: {new_vars_no_cross}\")\n",
        "\n",
        "  solution = linear_regression(new_mat_no_cross, new_vars_no_cross)\n",
        "\n",
        "  if solution and solution.score >= TARGET_R2:\n",
        "    return solution\n",
        "\n",
        "  # Polynomial features, cross terms\n",
        "  print('\\nPOLYNOMIAL WITH CROSS TERMS...')\n",
        "\n",
        "  new_mat, new_vars = generate_polynomial_features_cross(new_mat, new_vars)\n",
        "\n",
        "  print(f\"**** NEW VARS: {new_vars}\")\n",
        "\n",
        "  solution = linear_regression(new_mat, new_vars)\n",
        "\n",
        "  if solution and solution.score >= TARGET_R2:\n",
        "    return solution\n",
        "\n",
        "  # Find symmetry\n",
        "  print('\\nSYMMETRY SEARCHING...')\n",
        "\n",
        "  symmetries = -1\n",
        "\n",
        "  while symmetries != 0:\n",
        "    new_mat, new_vars, symmetries = find_symmetries(new_mat, new_vars)\n",
        "\n",
        "  print(f\"**** NEW VARS: {new_vars}\")\n",
        "\n",
        "  solution = linear_regression(new_mat, new_vars)\n",
        "\n",
        "  if solution and solution.score >= TARGET_R2:\n",
        "    return solution\n",
        "\n",
        "  # Add functional features\n",
        "  print('\\nFUNCTIONAL FEATURES...')\n",
        "\n",
        "  new_mat, new_vars = add_functional_features(new_mat, new_vars)\n",
        "\n",
        "  print(f\"**** NEW VARS: {new_vars}\")\n",
        "\n",
        "  solution = linear_regression(new_mat, new_vars)\n",
        "\n",
        "  if solution and solution.score >= TARGET_R2:\n",
        "    return solution\n",
        "\n",
        "  # Find symmetry\n",
        "  print('\\nSYMMETRY SEARCHING...')\n",
        "\n",
        "  symmetries = -1\n",
        "\n",
        "  while symmetries != 0:\n",
        "    new_mat, new_vars, symmetries = find_symmetries(new_mat, new_vars)\n",
        "\n",
        "  print(f\"**** NEW VARS: {new_vars}\")\n",
        "\n",
        "  solution = linear_regression(new_mat, new_vars)\n",
        "\n",
        "  if solution and solution.score >= TARGET_R2:\n",
        "    return solution"
      ]
    },
    {
      "cell_type": "markdown",
      "metadata": {
        "id": "RPsQ8RE12EjV"
      },
      "source": [
        "## Test"
      ]
    },
    {
      "cell_type": "code",
      "execution_count": null,
      "metadata": {
        "id": "wU6OKcA4_YBo"
      },
      "outputs": [],
      "source": [
        "# ----- Testing solve on many files ----- #\n",
        "\n",
        "def test_solve_many(directory='Data'):\n",
        "  import os\n",
        "  paths = []\n",
        "\n",
        "  for path in os.listdir(directory):\n",
        "    if path.endswith(\".csv\"):\n",
        "      paths.append(os.path.join(directory, path))\n",
        "\n",
        "  could_not_solve = []\n",
        "  solutions = {}\n",
        "  for path in paths:\n",
        "    print(f'\\n\\nSolving {path}')\n",
        "    matrix = np.loadtxt(path, delimiter=',', dtype=float)\n",
        "    vars = [f'x{i}' for i in range(matrix.shape[1]-1)]\n",
        "    eq = solve(matrix, vars)\n",
        "\n",
        "    if eq:\n",
        "      print(eq)\n",
        "      solutions[path] = repr(eq)\n",
        "    else:\n",
        "      print('No solution found')\n",
        "      could_not_solve.append(path)\n",
        "\n",
        "  print('\\n\\nThe following data files had the following solutions: ')\n",
        "  for path, solution in solutions.items():\n",
        "    print(f'\\n{path}: {solution}')\n",
        "  print('No solutions found for the following data files: ', could_not_solve)\n",
        "\n",
        "# test_solve_many('Data')"
      ]
    },
    {
      "cell_type": "markdown",
      "metadata": {
        "id": "uDbgBU1TXRvg"
      },
      "source": [
        "# Run the algorithm"
      ]
    },
    {
      "cell_type": "code",
      "execution_count": null,
      "metadata": {
        "id": "6LP8zSgoXUOH",
        "outputId": "21ce7d98-d8eb-4bab-92c5-bec387f881f8",
        "colab": {
          "base_uri": "https://localhost:8080/"
        }
      },
      "outputs": [
        {
          "output_type": "stream",
          "name": "stdout",
          "text": [
            "**** VARS: ['x0', 'x1', 'x2', 'x3']\n",
            "LINEAR REGRESSION...\n",
            "\n",
            "SYMMETRY SEARCHING...\n",
            "  -> TRAINING MODEL...\n",
            "  -> CHECKING SYMMETRIES...\n",
            "     [X] Symmetry Found: ((x2)-(x3)) -> (err = 0.0031123751915854703)\n",
            "  -> TRAINING MODEL...\n",
            "  -> CHECKING SYMMETRIES...\n",
            "     [X] Symmetry Found: ((x1)*((x2)-(x3))) -> (err = 0.01376763308374751)\n",
            "  -> TRAINING MODEL...\n",
            "  -> CHECKING SYMMETRIES...\n",
            "**** NEW VARS: ['x0', '(x1)*((x2)-(x3))']\n",
            "\n",
            "POLYNOMIAL WITHOUT CROSS TERMS...\n",
            "**** NEW VARS: ['(x0)', '(x0)*(x0)', '(x0)*(x0)*(x0)', '(x0)*(x0)*(x0)*(x0)', '((x1)*((x2)-(x3)))', '((x1)*((x2)-(x3)))*((x1)*((x2)-(x3)))', '((x1)*((x2)-(x3)))*((x1)*((x2)-(x3)))*((x1)*((x2)-(x3)))', '((x1)*((x2)-(x3)))*((x1)*((x2)-(x3)))*((x1)*((x2)-(x3)))*((x1)*((x2)-(x3)))']\n",
            "R^2 Score: 1.0\n",
            "\n",
            "1.0*((x0)*(x0)) + 2.0*(((x1)*((x2)-(x3)))) + 0.0\n"
          ]
        }
      ],
      "source": [
        "eq = solve(matrix, vars)\n",
        "print(eq)"
      ]
    },
    {
      "cell_type": "markdown",
      "metadata": {
        "id": "FkngMmq7Onh6"
      },
      "source": [
        "# Check visually"
      ]
    },
    {
      "cell_type": "code",
      "execution_count": null,
      "metadata": {
        "id": "nmrvqqRruRc2",
        "colab": {
          "base_uri": "https://localhost:8080/",
          "height": 472
        },
        "outputId": "4d47835b-d620-4177-d9b4-9e0eac4c5d4d"
      },
      "outputs": [
        {
          "output_type": "display_data",
          "data": {
            "text/plain": [
              "<Figure size 640x480 with 1 Axes>"
            ],
            "image/png": "[encoded data removed]"
          },
          "metadata": {}
        }
      ],
      "source": [
        "# Visualization Test\n",
        "\n",
        "if eq:\n",
        "  eq.visualize_actual_vs_predicted()"
      ]
    },
    {
      "cell_type": "markdown",
      "source": [
        "# Data"
      ],
      "metadata": {
        "id": "9grtQMrauLgY"
      }
    },
    {
      "cell_type": "markdown",
      "source": [
        "- All data was originally collected in [this Google Sheet](https://docs.google.com/spreadsheets/d/1t9HqzVDHinJkV29-46H7Hvq82RXtvIA1s53FudI60SY/edit?usp=sharing)\n",
        "  - Includes the results of the effect-of-noise and adaptive-vs-constant-alpha testing\n",
        "  - Raw data can be found in the \"[noise](https://docs.google.com/spreadsheets/d/1t9HqzVDHinJkV29-46H7Hvq82RXtvIA1s53FudI60SY/edit?gid=344099043#gid=344099043)\" and \"[alpha](https://docs.google.com/spreadsheets/d/1t9HqzVDHinJkV29-46H7Hvq82RXtvIA1s53FudI60SY/edit?gid=0#gid=0)\" sheets\n",
        "  - Aggregation/analysis of that data can be found in the and \"[noise_analysis](https://docs.google.com/spreadsheets/d/1t9HqzVDHinJkV29-46H7Hvq82RXtvIA1s53FudI60SY/edit?gid=1500867377#gid=1500867377)\" and \"[alpha_analysis](https://docs.google.com/spreadsheets/d/1t9HqzVDHinJkV29-46H7Hvq82RXtvIA1s53FudI60SY/edit?gid=146546834#gid=146546834)\" sheets"
      ],
      "metadata": {
        "id": "LqRsqw_GuOYy"
      }
    }
  ],
  "metadata": {
    "accelerator": "GPU",
    "colab": {
      "gpuType": "T4",
      "provenance": []
    },
    "kernelspec": {
      "display_name": "Python 3",
      "name": "python3"
    },
    "language_info": {
      "name": "python"
    }
  },
  "nbformat": 4,
  "nbformat_minor": 0
}